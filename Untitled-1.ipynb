{
 "cells": [
  {
   "cell_type": "code",
   "execution_count": null,
   "metadata": {
    "vscode": {
     "languageId": "c"
    }
   },
   "outputs": [],
   "source": [
    "#include<stdio.h>\n",
    "#include<string.h>\n",
    "int main()\n",
    "{\n",
    "    char str[100];\n",
    "  scanf(\"%s\",str);\n",
    "  int len = strlen(str);\n",
    "  printf(\"%d\",len);\n",
    "  return 0;\n",
    "    \n",
    "}\n",
    "}"
   ]
  }
 ],
 "metadata": {
  "language_info": {
   "name": "python"
  }
 },
 "nbformat": 4,
 "nbformat_minor": 2
}
